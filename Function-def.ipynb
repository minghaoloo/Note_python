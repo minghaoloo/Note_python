{
 "cells": [
  {
   "cell_type": "markdown",
   "id": "115564b6-f473-4261-bf2d-856379c54b35",
   "metadata": {},
   "source": [
    "# Execise 1"
   ]
  },
  {
   "cell_type": "code",
   "execution_count": 7,
   "id": "089b19d8-412b-4881-81e8-5eee8f4f0ad0",
   "metadata": {},
   "outputs": [
    {
     "name": "stdout",
     "output_type": "stream",
     "text": [
      "Hello minghao\n",
      "Your bill of $ 100.01 is due: 12/6/2024\n"
     ]
    }
   ],
   "source": [
    "def display_invoice(username, amount, due_date):\n",
    "    print(f\"Hello {username}\")\n",
    "    print(f\"Your bill of ${amount: .2f} is due: {due_date}\")\n",
    "    # .2f = 2 decimal place\n",
    "display_invoice(\"minghao\", 100.0111, \"12/6/2024\")"
   ]
  },
  {
   "cell_type": "markdown",
   "id": "1119224c-965f-46da-9644-ad0ebf9d6873",
   "metadata": {},
   "source": [
    "# Execise 2 (return)\n",
    " statement used to end a function and send a result back to caller"
   ]
  },
  {
   "cell_type": "code",
   "execution_count": 10,
   "id": "89f4239e-01e0-444e-8fca-06ae53bbc007",
   "metadata": {},
   "outputs": [
    {
     "name": "stdout",
     "output_type": "stream",
     "text": [
      "3\n",
      "-1\n",
      "2\n",
      "0.5\n"
     ]
    }
   ],
   "source": [
    "def add(x,y):\n",
    "    z = x + y\n",
    "    return z\n",
    "\n",
    "def subtract(x,y):\n",
    "    z = x - y\n",
    "    return z\n",
    "\n",
    "def multiply(x,y):\n",
    "    z = x * y\n",
    "    return z\n",
    "\n",
    "def divide(x,y):\n",
    "    z = x / y\n",
    "    return z\n",
    "\n",
    "print(add(1,2))\n",
    "print(subtract(1,2))\n",
    "print(multiply(1,2))\n",
    "print(divide(1,2))"
   ]
  },
  {
   "cell_type": "markdown",
   "id": "aeeb9883-b0eb-40b3-b083-4bda0053e293",
   "metadata": {},
   "source": [
    "# Exercise 3"
   ]
  },
  {
   "cell_type": "code",
   "execution_count": 11,
   "id": "7c2d9631-7620-4414-9526-53f3aad019f4",
   "metadata": {},
   "outputs": [
    {
     "name": "stdout",
     "output_type": "stream",
     "text": [
      "Minghao Loo\n"
     ]
    }
   ],
   "source": [
    "def create_name(first, last):\n",
    "    first = first.capitalize()\n",
    "    last = last.capitalize()\n",
    "    return first + \" \" + last\n",
    "\n",
    "full_name = create_name(\"minghao\",\"loo\")\n",
    "print(full_name)"
   ]
  }
 ],
 "metadata": {
  "kernelspec": {
   "display_name": "Python 3 (ipykernel)",
   "language": "python",
   "name": "python3"
  },
  "language_info": {
   "codemirror_mode": {
    "name": "ipython",
    "version": 3
   },
   "file_extension": ".py",
   "mimetype": "text/x-python",
   "name": "python",
   "nbconvert_exporter": "python",
   "pygments_lexer": "ipython3",
   "version": "3.11.7"
  }
 },
 "nbformat": 4,
 "nbformat_minor": 5
}
