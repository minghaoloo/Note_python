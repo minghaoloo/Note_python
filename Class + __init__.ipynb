{
 "cells": [
  {
   "cell_type": "markdown",
   "id": "8f5ae126-abe8-4e4d-a57a-920020f87951",
   "metadata": {},
   "source": [
    "Python Object Oriented Programming in 10 minutes 🐍"
   ]
  },
  {
   "cell_type": "code",
   "execution_count": 19,
   "id": "49703986-16e3-4c80-a4e9-48867686f8c7",
   "metadata": {},
   "outputs": [],
   "source": [
    "class Car:\n",
    "    def __init__(self,make,model,year,color):\n",
    "        self.make = make\n",
    "        self.model = model\n",
    "        self.year = year\n",
    "        self.color = color\n",
    "\n",
    "    def drive(self):\n",
    "        print(\"This \" + self.model + \" is driving\")\n",
    "\n",
    "    def stop(self):\n",
    "        print(\"This \" + self.model + \" is stopped\")"
   ]
  },
  {
   "cell_type": "code",
   "execution_count": 20,
   "id": "a691d748-e379-4a56-87ac-17daf7d7a966",
   "metadata": {},
   "outputs": [
    {
     "name": "stdout",
     "output_type": "stream",
     "text": [
      "Honda\n",
      "Civic\n",
      "2024\n",
      "Black\n",
      "This Vios is driving\n",
      "This Civic is stopped\n"
     ]
    }
   ],
   "source": [
    "#from Car import Car\n",
    "\n",
    "car_1 = Car(\"Japan\",\"Vios\",2024,\"Silver\")\n",
    "car_2 = Car(\"Honda\",\"Civic\",2024,\"Black\")\n",
    "\n",
    "print(car_2.make)\n",
    "print(car_2.model)\n",
    "print(car_2.year)\n",
    "print(car_2.color)\n",
    "\n",
    "car_1.drive()\n",
    "car_2.stop()"
   ]
  },
  {
   "cell_type": "code",
   "execution_count": null,
   "id": "78ec777d-6512-4fa5-96b1-e70b56dac636",
   "metadata": {},
   "outputs": [],
   "source": []
  }
 ],
 "metadata": {
  "kernelspec": {
   "display_name": "Python 3 (ipykernel)",
   "language": "python",
   "name": "python3"
  },
  "language_info": {
   "codemirror_mode": {
    "name": "ipython",
    "version": 3
   },
   "file_extension": ".py",
   "mimetype": "text/x-python",
   "name": "python",
   "nbconvert_exporter": "python",
   "pygments_lexer": "ipython3",
   "version": "3.11.7"
  }
 },
 "nbformat": 4,
 "nbformat_minor": 5
}
