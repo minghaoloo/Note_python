{
 "cells": [
  {
   "cell_type": "markdown",
   "id": "f5e3a7b4-92bb-4b4d-bd9a-96f4f2181ed5",
   "metadata": {},
   "source": [
    "# Multi Class 可以读读看怎样运作"
   ]
  },
  {
   "cell_type": "code",
   "execution_count": 12,
   "id": "ea4e6002-7d6b-437e-94c9-3b9a49c27da3",
   "metadata": {},
   "outputs": [
    {
     "name": "stdout",
     "output_type": "stream",
     "text": [
      "72.5\n"
     ]
    }
   ],
   "source": [
    "# 定义一个代表学生的类\n",
    "class Student:\n",
    "    def __init__(self, name, age, grade):\n",
    "        # 初始化学生的名字、年龄和成绩\n",
    "        self.name = name\n",
    "        self.age = age\n",
    "        self.grade = grade\n",
    "\n",
    "    def get_grade(self):\n",
    "        # 返回学生的成绩\n",
    "        return self.grade\n",
    "\n",
    "\n",
    "# 定义一个代表课程的类\n",
    "class Course:\n",
    "    def __init__(self, name, max_students):\n",
    "        # 初始化课程的名字和最多学生人数\n",
    "        self.name = name\n",
    "        self.max_students = max_students\n",
    "        # 创建一个空的列表来放学生\n",
    "        self.classroom = []\n",
    "        \n",
    "    def add_student(self, student):\n",
    "        # 如果现在的学生人数少于最多学生人数，就加学生进去\n",
    "        if len(self.classroom) < self.max_students:\n",
    "            self.classroom.append(student)\n",
    "            return True  # 加成功了，返回 True\n",
    "        return False  # 加不进去，返回 False\n",
    "\n",
    "    def get_average_grade(self):\n",
    "        # 初始化总成绩\n",
    "        value = 0\n",
    "        # 一个一个学生加他们的成绩\n",
    "        for student in self.classroom:\n",
    "            value += student.get_grade()\n",
    "            \n",
    "        # 确保学生人数不是零，避免除以零出错\n",
    "        if len(self.classroom) == 0:\n",
    "            return 0\n",
    "        # 算出平均成绩并返回\n",
    "        return value / len(self.classroom)\n",
    "\n",
    "# 创建学生对象，每个对象都有名字、年龄和成绩\n",
    "s0 = Student(\"Biekie\", 24, 65)\n",
    "s1 = Student(\"Jinglin\", 23, 75)\n",
    "s2 = Student(\"Peiyu\", 25, 85)\n",
    "s3 = Student(\"Karyan\", 22, 65)\n",
    "\n",
    "# 创建一个课程对象，课程名叫 \"Facescore\"，最多可以有 3 个学生\n",
    "course = Course(\"Facescore\", 4)\n",
    "\n",
    "# 把学生加到课程里面\n",
    "course.add_student(s0)\n",
    "course.add_student(s1)\n",
    "course.add_student(s2)\n",
    "# 尝试加第四个学生，但课程已经满了，所以加不进去\n",
    "course.add_student(s3)\n",
    "\n",
    "# 算出课程里所有学生的平均成绩\n",
    "average_grade = course.get_average_grade()\n",
    "# 打印平均成绩\n",
    "print(average_grade)  # 结果应该是 75.0"
   ]
  },
  {
   "cell_type": "markdown",
   "id": "cde68def-e032-46ed-ba76-508e51a23e25",
   "metadata": {},
   "source": [
    "# Inheritance 继承"
   ]
  },
  {
   "cell_type": "code",
   "execution_count": 44,
   "id": "87707405-6a0a-438c-a8cc-afc79bf11b79",
   "metadata": {},
   "outputs": [
    {
     "name": "stdout",
     "output_type": "stream",
     "text": [
      "I am mian ao, and I am 3 years old\n",
      "I am vicky, and I am 11 years old\n",
      "汪汪汪\n",
      "I am 邻居家的猫🐱, and I am ??? years old, and I am brown\n",
      "meow\n",
      "I am 外婆家的鱼🐟, and I am 5 years old\n",
      "i dont know what 7 i say...blueblue..\n"
     ]
    }
   ],
   "source": [
    "class pet:\n",
    "    def __init__(self, name, age):\n",
    "        self.name = name\n",
    "        self.age = age\n",
    "\n",
    "    def show(self):\n",
    "        print(f\"I am {self.name}, and I am {self.age} years old\")\n",
    "\n",
    "    def speak(self):\n",
    "        print(\"i dont know what 7 i say...blueblue..\")\n",
    "\n",
    "class cat(pet):\n",
    "    def __init__(self, name, age, color):\n",
    "        super().__init__(name,age)\n",
    "        self.color = color\n",
    "        \n",
    "    def speak(self):\n",
    "        print(\"meow\")\n",
    "\n",
    "    def show(self):\n",
    "        print(f\"I am {self.name}, and I am {self.age} years old, and I am {self.color}\")\n",
    "        \n",
    "class dog(pet):\n",
    "    def speak(self):\n",
    "        print(\"汪汪汪\")\n",
    "        \n",
    "class fish(pet):\n",
    "    pass \n",
    "    # 🐟不会叫，所以pass回去parent class 那边的 speak,\n",
    "    # 因为我inheritance pet = fish（pet）\n",
    "\n",
    "p = pet(\"mian ao\", 3)\n",
    "p.show()\n",
    "\n",
    "d = dog(\"vicky\", 11)\n",
    "d.show() #借用class pet的show来介绍自己\n",
    "d.speak()\n",
    "\n",
    "c = cat(\"邻居家的猫🐱\", \"???\",'brown')\n",
    "c.show() #借用class pet的show来介绍自己\n",
    "c.speak()\n",
    "\n",
    "f = fish(\"外婆家的鱼🐟\", \"5\")\n",
    "f.show() #借用class pet的show来介绍自己\n",
    "f.speak() # 🐟不会叫，所以pass回去parent class 那边的 speak,"
   ]
  },
  {
   "cell_type": "markdown",
   "id": "87dda5d5-4599-4334-a025-b36f6bef5251",
   "metadata": {},
   "source": [
    "# Class Atribution"
   ]
  },
  {
   "cell_type": "code",
   "execution_count": 52,
   "id": "95910d6d-2fe5-4aaf-b5ac-1faa3756e4ee",
   "metadata": {},
   "outputs": [
    {
     "name": "stdout",
     "output_type": "stream",
     "text": [
      "1\n",
      "2\n"
     ]
    }
   ],
   "source": [
    "# 定义一个代表人的类\n",
    "class person:\n",
    "    # 这是一个类变量，用来记录有多少个人\n",
    "    number_of_people = 0\n",
    "\n",
    "    # 这是初始化方法，当我们创建一个新的 person 对象时就会用到\n",
    "    def __init__(self, name):\n",
    "        self.name = name  # 给每个人一个名字\n",
    "        person.add_person()  # 每创建一个人，就把人数加一\n",
    "\n",
    "    # 这是一个类方法，用来返回总人数\n",
    "    @classmethod\n",
    "    def numberofpeople(cls):\n",
    "        return cls.number_of_people  # cls 是指这个类，所以我们可以用它来访问类变量\n",
    "\n",
    "    # 这是另一个类方法，用来增加人数\n",
    "    @classmethod\n",
    "    def add_person(cls):\n",
    "        cls.number_of_people += 1  # 用 cls 来访问和修改类变量\n",
    "\n",
    "# 创建一个名字叫 \"ali\" 的人\n",
    "p1 = person(\"ali\")\n",
    "# 打印现在有多少个人\n",
    "print(person.number_of_people)  # 应该输出 1\n",
    "\n",
    "# 创建另一个名字叫 \"mutu\" 的人\n",
    "p2 = person(\"mutu\")\n",
    "# 再次打印现在有多少个人\n",
    "print(person.number_of_people)  # 应该输出 2"
   ]
  },
  {
   "cell_type": "markdown",
   "id": "a67b1920-ee8c-43b3-aaf0-bf98b2795ba9",
   "metadata": {},
   "source": [
    "# Static Method"
   ]
  },
  {
   "cell_type": "code",
   "execution_count": 55,
   "id": "9fe3715d-6036-4ce0-8364-24b5efa3289f",
   "metadata": {},
   "outputs": [
    {
     "name": "stdout",
     "output_type": "stream",
     "text": [
      "15\n",
      "20\n",
      "run\n"
     ]
    }
   ],
   "source": [
    "class math:\n",
    "\n",
    "    @staticmethod\n",
    "    def add5(x):\n",
    "        return x + 5\n",
    "        \n",
    "    @staticmethod\n",
    "    def add10(x):\n",
    "        return x + 10\n",
    "        \n",
    "    @staticmethod\n",
    "    def pr():\n",
    "        print(\"run\")\n",
    "        \n",
    "# no need to do like:\n",
    "# m = math(10)\n",
    "print(math.add5(10))\n",
    "print(math.add10(10))\n",
    "math.pr()"
   ]
  },
  {
   "cell_type": "code",
   "execution_count": null,
   "id": "0be345b0-6105-4b9e-a782-86a0cda3c973",
   "metadata": {},
   "outputs": [],
   "source": []
  }
 ],
 "metadata": {
  "kernelspec": {
   "display_name": "Python 3 (ipykernel)",
   "language": "python",
   "name": "python3"
  },
  "language_info": {
   "codemirror_mode": {
    "name": "ipython",
    "version": 3
   },
   "file_extension": ".py",
   "mimetype": "text/x-python",
   "name": "python",
   "nbconvert_exporter": "python",
   "pygments_lexer": "ipython3",
   "version": "3.11.7"
  }
 },
 "nbformat": 4,
 "nbformat_minor": 5
}
