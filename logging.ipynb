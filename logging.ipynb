{
 "cells": [
  {
   "cell_type": "code",
   "execution_count": 1,
   "id": "222e3a0a-8263-48ad-8645-3899879a69c9",
   "metadata": {},
   "outputs": [],
   "source": [
    "import logging\n",
    "\n",
    "logging.basicConfig(filename='employee.log', level=logging.INFO,\n",
    "                    format='%(levelname)s:%(message)s')\n",
    "\n",
    "\n",
    "class Employee:\n",
    "    \"\"\"A sample Employee class\"\"\"\n",
    "\n",
    "    def __init__(self, first, last):\n",
    "        self.first = first\n",
    "        self.last = last\n",
    "\n",
    "        logging.info('Created Employee: {} - {}'.format(self.fullname, self.email))\n",
    "\n",
    "    @property\n",
    "    def email(self):\n",
    "        return '{}.{}@email.com'.format(self.first, self.last)\n",
    "\n",
    "    @property\n",
    "    def fullname(self):\n",
    "        return '{} {}'.format(self.first, self.last)\n",
    "\n",
    "\n",
    "emp_1 = Employee('John', 'Smith')\n",
    "emp_2 = Employee('Corey', 'Schafer')\n",
    "emp_3 = Employee('Jane', 'Doe')"
   ]
  },
  {
   "cell_type": "code",
   "execution_count": null,
   "id": "dc9549aa-856b-4e88-8cc9-f9121ce6d7d9",
   "metadata": {},
   "outputs": [],
   "source": [
    "import logging\n",
    "\n",
    "# 配置日志系统，设置日志级别和日志文件输出\n",
    "logging.basicConfig(level=logging.DEBUG, filename='app.log', filemode='w', \n",
    "                    format='%(name)s - %(levelname)s - %(message)s')\n",
    "\n",
    "# 不同级别的日志\n",
    "logging.debug('这是一个调试信息')\n",
    "logging.info('这是一个普通信息')\n",
    "logging.warning('这是一个警告信息')\n",
    "logging.error('这是一个错误信息')\n",
    "logging.critical('这是一个严重错误信息')\n",
    "\n",
    "# 日志还可以记录到控制台\n",
    "console = logging.StreamHandler()\n",
    "console.setLevel(logging.INFO)\n",
    "formatter = logging.Formatter('%(name)s - %(levelname)s - %(message)s')\n",
    "console.setFormatter(formatter)\n",
    "logging.getLogger('').addHandler(console)\n",
    "\n",
    "# 使用日志\n",
    "logging.info('这是信息将显示在控制台和文件中')"
   ]
  },
  {
   "cell_type": "markdown",
   "id": "3c870401-72c1-48d2-8874-0235dd6f979e",
   "metadata": {},
   "source": [
    "# basicConfig 是什么？"
   ]
  },
  {
   "cell_type": "markdown",
   "id": "99d721d7-4c33-4a0d-8d3b-f073b73bd4ed",
   "metadata": {},
   "source": [
    "`basicConfig` 是 Python `logging` 模块中的一个函数，用于快速简单地配置日志系统的基本行为。当你第一次使用 `logging` 模块记录消息时，如果没有进行任何配置，默认会创建一个日志处理器（handler），并且设置为 `WARNING` 级别。这意味着只有 `WARNING` 及以上级别（`ERROR`, `CRITICAL`）的日志会被输出。\r\n",
    "\r\n",
    "使用 `basicConfig` 函数可以方便地定义日志的级别、输出格式、输出位置等参数，从而覆盖这种默认行为。一旦调用了 `basicConfig`，其配置就会设置到日志系统中，且只能设置一次，后续的调用将不会更改配置。\r\n",
    "\r\n",
    "### 参数\r\n",
    "`basicConfig` 有一些关键的参数，可以用来自定义日志设置：\r\n",
    "- **level**: 设置日志记录的级别。默认为 `WARNING`。\r\n",
    "- **filename**: 指定一个文件名，日志将被写入到这个文件中。\r\n",
    "- **filemode**: 如果指定了文件名，文件模式默认为 `'a'`（追加）。你也可以设置为 `'w'`（覆盜）。\r\n",
    "- **format**: 定义日志的输出格式。可以通过格式字符串来自定义日志信息的组成。\r\n",
    "- **datefmt**: 如果在 `format` 参数中使用了时间，这个参数可以用来指定时间的格式。\r\n",
    "- **handlers**: 一个处理器对象列表，可以指定日志信息输出的目标，比如文件、标准输出等。\r\n",
    "- **stream**: 指定日志输出的流，如果 `filename` 未指定的话。\r\n",
    "\r\n",
    "### 示例\r\n",
    "下面是一个简单的使用 `basicConfng` 模块的功能非常强大和灵活，可以进一步定制以满足复杂的需求。"
   ]
  },
  {
   "cell_type": "code",
   "execution_count": null,
   "id": "83db8119-da28-4315-ab07-d96d99a95b0f",
   "metadata": {},
   "outputs": [],
   "source": [
    "import logging\n",
    "\n",
    "# 配置日志系统\n",
    "logging.basicConfig(filename='example.log', filemode='w', level=logging.DEBUG,\n",
    "                    format='%(asctime)s - %(levelname)s - %(message)s', \n",
    "                    datefmt='%Y-%m-%d %H:%M:%S')\n",
    "\n",
    "# 使用不同级别的日志记录信息\n",
    "logging.debug('这是一个调试消息')\n",
    "logging.info('这是一个信息消息')\n",
    "logging.warning('这是一个警告消息')\n",
    "logging.error('这是一个错误消息')\n",
    "logging.critical('这是一个严重错误消息')"
   ]
  },
  {
   "cell_type": "markdown",
   "id": "065a0b5e-b709-4978-9fbd-4346bff1bd8f",
   "metadata": {},
   "source": [
    "在这个例子中，所有的日志消息将被写入到 `example.log` 文件中，格式包括时间、日志级别和消息内容，日志文件每次运行时会被覆写。这样的配置对于大多数应用程序来说已经足够用了，但 `logging` 模块的功能非常强大和灵活，可以进一步定制以满足复杂的需求。"
   ]
  },
  {
   "cell_type": "markdown",
   "id": "6cde1dc9-8e19-40e2-a996-965a28aa736d",
   "metadata": {},
   "source": [
    "是的，正是如此！`logging` 模块在 Python 中被用来追踪代码运行中发生的事件，并可以根据事件的重要性来分类。通过使用不同的日志级别，你可以很容易地区分事件的严重程度。这使得开发者能够快速了解应用程序的运行状况，尤其是在发生错误或问题需要调试时。\n",
    "\n",
    "### 日志级别的使用\n",
    "- **DEBUG**: 主要用于开发和调试阶段，记录详尽的信息，帮助开发者了解应用程序的运行流程。\n",
    "- **INFO**: 提供运行时的正常操作信息（例如用户登录、SQL查询等），通常用于生产环境中的常规监控。\n",
    "- **WARNING**: 指出可能的问题，但程序仍能正常运行。\n",
    "- **ERROR**: 记录因错误导致某些功能无法正常执行的问题。\n",
    "- **CRITICAL**: 记录严重错误，这种错误通常会导致程序部分或全部功能停止运行。\n",
    "\n",
    "### `logging` 的配置和使用\n",
    "通过合理配置 `logging`，你可以控制哪些信息被记录，以及这些信息的记录方式（例如输出到控制台、写入文件或通过网络发送等）。这种灵活性使得 `logging` 成为Python中非常强大的工具，对于生产环"
   ]
  },
  {
   "cell_type": "code",
   "execution_count": null,
   "id": "5c2c240c-06c4-494b-af0c-d3ea44d51d40",
   "metadata": {},
   "outputs": [],
   "source": []
  }
 ],
 "metadata": {
  "kernelspec": {
   "display_name": "Python 3 (ipykernel)",
   "language": "python",
   "name": "python3"
  },
  "language_info": {
   "codemirror_mode": {
    "name": "ipython",
    "version": 3
   },
   "file_extension": ".py",
   "mimetype": "text/x-python",
   "name": "python",
   "nbconvert_exporter": "python",
   "pygments_lexer": "ipython3",
   "version": "3.11.7"
  }
 },
 "nbformat": 4,
 "nbformat_minor": 5
}
