{
 "cells": [
  {
   "cell_type": "markdown",
   "id": "77e7ce75-0808-4146-b9e3-fe0896795513",
   "metadata": {},
   "source": [
    "## asyncio = event loop\n",
    "\n",
    "asyncio have 2 element,\n",
    "1) coroutine fucntion\n",
    "2) coroutine object\n",
    "\n",
    "## How to run even loop\n",
    "Step 1: enter async mode or even loop mode\n",
    "- asyncio.run()\n",
    "\n",
    "Step 2: change coroutine fucn into task\n",
    "- await"
   ]
  },
  {
   "cell_type": "code",
   "execution_count": null,
   "id": "ad9bf0fc-7ed4-4552-a04a-50e3c02c4944",
   "metadata": {},
   "outputs": [],
   "source": [
    "import asyncio\n",
    "\n",
    "async def main():\n",
    "    print('Hello')\n",
    "    await asyncio.sleep(1)\n",
    "    print('World')\n",
    "\n",
    "coro = main()\n",
    "\n",
    "asyncio.run(coro)"
   ]
  },
  {
   "cell_type": "code",
   "execution_count": 1,
   "id": "00977140-6395-49de-be7b-65fabab97a43",
   "metadata": {
    "scrolled": true
   },
   "outputs": [
    {
     "name": "stdout",
     "output_type": "stream",
     "text": [
      "started at 14:58:44\n",
      "hello\n",
      "world\n",
      "finised at 14:58:47\n"
     ]
    }
   ],
   "source": [
    "import asyncio\n",
    "import time\n",
    "\n",
    "async def say_after(delay, what):\n",
    "    #task \n",
    "    await asyncio.sleep(delay)\n",
    "    print(what)\n",
    "\n",
    "async def main():\n",
    "    print(f\"started at {time.strftime('%X')}\")\n",
    "    # task\n",
    "    await say_after(1, 'hello')\n",
    "    await say_after(2, 'world')\n",
    "\n",
    "    print(f\"finised at {time.strftime('%X')}\")\n",
    "\n",
    "# if other IDE use asyncio.run(main()), \n",
    "# await main() only for jupyter notebook\n",
    "await main()"
   ]
  },
  {
   "cell_type": "markdown",
   "id": "feeab2b1-18ae-4263-8b8c-2a0a249f01bd",
   "metadata": {},
   "source": [
    "# Asyncio in Python - Full Tutorial\n",
    "- normally code 只能走直线 A--B--C--D\n",
    "- but using asyncio 可以同时run multyple task\n",
    "- A--B\n",
    "- B--C\n",
    "- C--D\n",
    "- less cpu power, faster\n",
    "- IO = input/output"
   ]
  },
  {
   "cell_type": "markdown",
   "id": "1576a17c-2c73-415b-bd26-f2492de559ab",
   "metadata": {},
   "source": [
    "# Event loop\n",
    "- 等待 某种条件才会execute "
   ]
  },
  {
   "cell_type": "code",
   "execution_count": 5,
   "id": "4399d3b3-331a-4374-a729-13d214829f64",
   "metadata": {},
   "outputs": [],
   "source": [
    "import asyncio\n",
    "\n",
    "# coroutine function\n",
    "async def main():\n",
    "    print(\"Start main coroutine\")\n",
    "\n",
    "\n",
    "    \n",
    "    # main() --> #coroutine object\n",
    "    # run the main coroutine\n",
    "    asyncio.run(main())"
   ]
  },
  {
   "cell_type": "markdown",
   "id": "cfdfe6c7-1e47-4c96-a480-23b4715a7755",
   "metadata": {},
   "source": [
    "*normal function*"
   ]
  },
  {
   "cell_type": "code",
   "execution_count": 2,
   "id": "e35d9f41-e17d-4dc0-9542-6c5c91f3bece",
   "metadata": {},
   "outputs": [
    {
     "name": "stdout",
     "output_type": "stream",
     "text": [
      "Start main coroutine\n"
     ]
    }
   ],
   "source": [
    "def main():\n",
    "    print(\"Start main coroutine\")\n",
    "main()"
   ]
  },
  {
   "cell_type": "code",
   "execution_count": 22,
   "id": "c4e30157-228c-4a6d-b29d-8c970e4bf281",
   "metadata": {},
   "outputs": [],
   "source": [
    "import asyncio\n",
    "import time"
   ]
  },
  {
   "cell_type": "code",
   "execution_count": 24,
   "id": "8765e9bb-4ee8-4efe-937a-57991aa2f4d4",
   "metadata": {},
   "outputs": [
    {
     "name": "stdout",
     "output_type": "stream",
     "text": [
      "Fetching date...... 16:07:27\n",
      "Data fecched, id: minghaotib\n",
      "Received result: ('Data: btcusdt', 'minghaotib') ,16:07:29\n",
      "Fetching date...... 16:07:29\n",
      "Data fecched, id: oldme_done\n",
      "Received result: ('Data: btcusdt', 'oldme_done'), 16:07:34\n"
     ]
    }
   ],
   "source": [
    "async def fetch_data(delay,id):\n",
    "    print(\"Fetching date......\",time.strftime('%X'))\n",
    "    await asyncio.sleep(delay)\n",
    "    print(\"Data fecched, id:\", id)\n",
    "    return(\"Data: btcusdt\", id)\n",
    "\n",
    "async def main():\n",
    "    #task1 = fetch_data(2,\"minghaotib\")\n",
    "    #task2 = fetch_data(5,\"oldme_done\")\n",
    "\n",
    "    result1 = await fetch_data(2,\"minghaotib\") #task1\n",
    "    print(f\"Received result: {result1} ,{time.strftime('%X')}\")\n",
    "\n",
    "    result2 = await fetch_data(5,\"oldme_done\") #task2\n",
    "    print(f\"Received result: {result2}, {time.strftime('%X')}\")\n",
    "\n",
    "await main() # the FORMAL is ---> asyncio.run(main())"
   ]
  },
  {
   "cell_type": "markdown",
   "id": "ef363649-889b-45e0-963f-3bb7d31f1b3b",
   "metadata": {},
   "source": [
    "# Run at the same time\n",
    "- by using asyncio.create_task"
   ]
  },
  {
   "cell_type": "code",
   "execution_count": 29,
   "id": "adc22cbc-d5c1-4eab-a3c8-659fd658b36e",
   "metadata": {},
   "outputs": [
    {
     "name": "stdout",
     "output_type": "stream",
     "text": [
      "Fetching date...... 16:15:33\n",
      "Fetching date...... 16:15:33\n",
      "Data fecched, id: minghaotib\n",
      "Data fecched, id: oldme_done\n",
      "('Data: btcusdt', 'minghaotib') ('Data: btcusdt', 'oldme_done') 16:15:38\n"
     ]
    }
   ],
   "source": [
    "async def fetch_data(delay,id):\n",
    "    print(\"Fetching date......\",time.strftime('%X'))\n",
    "    await asyncio.sleep(delay)\n",
    "    print(\"Data fecched, id:\", id)\n",
    "    return(\"Data: btcusdt\", id)\n",
    "\n",
    "async def main():\n",
    "    task1 = asyncio.create_task(fetch_data(2,\"minghaotib\"))\n",
    "    task2 = asyncio.create_task(fetch_data(5,\"oldme_done\"))\n",
    "\n",
    "    result1 = await task1\n",
    "    result2 = await task2\n",
    "    print(result1,result2, time.strftime('%X'))\n",
    "\n",
    "await main() # the FORMAL is ---> asyncio.run(main())"
   ]
  },
  {
   "cell_type": "markdown",
   "id": "d423e904-a664-4c19-b5d6-b13d7054872b",
   "metadata": {},
   "source": [
    "# gather"
   ]
  },
  {
   "cell_type": "code",
   "execution_count": 40,
   "id": "4664d9a7-4845-4ed2-bdb7-c6137a410879",
   "metadata": {},
   "outputs": [
    {
     "name": "stdout",
     "output_type": "stream",
     "text": [
      "Fetching data for minghaotib at 16:24:21\n",
      "Fetching data for oldme_done at 16:24:21\n",
      "Data fetched, id: minghaotib\n",
      "Data fetched, id: oldme_done\n",
      "[('Data: btcusdt', 'minghaotib'), ('Data: btcusdt', 'oldme_done')] 16:24:26\n",
      "[('Data: btcusdt', 'minghaotib'), ('Data: btcusdt', 'oldme_done')] 16:24:26\n"
     ]
    }
   ],
   "source": [
    "import asyncio\n",
    "import time\n",
    "\n",
    "async def fetch_data(delay,id):\n",
    "    print(f\"Fetching data for {id} at\",time.strftime('%X'))\n",
    "    await asyncio.sleep(delay)\n",
    "    print(\"Data fetched, id:\", id)\n",
    "    return(\"Data: btcusdt\", id)\n",
    "\n",
    "async def main():\n",
    "    result = await asyncio.gather(\n",
    "        fetch_data(2,'minghaotib'),\n",
    "        fetch_data(5,'oldme_done')\n",
    "    )\n",
    "   \n",
    "    # Process the result\n",
    "    for x in result:\n",
    "        print(f\"{result}\", time.strftime('%X'))\n",
    "\n",
    "await main() # the FORMAL is ---> asyncio.run(main())"
   ]
  },
  {
   "cell_type": "code",
   "execution_count": null,
   "id": "a3e65bd7-a8b4-46ad-946e-a9922de8c327",
   "metadata": {},
   "outputs": [],
   "source": []
  }
 ],
 "metadata": {
  "kernelspec": {
   "display_name": "Python 3 (ipykernel)",
   "language": "python",
   "name": "python3"
  },
  "language_info": {
   "codemirror_mode": {
    "name": "ipython",
    "version": 3
   },
   "file_extension": ".py",
   "mimetype": "text/x-python",
   "name": "python",
   "nbconvert_exporter": "python",
   "pygments_lexer": "ipython3",
   "version": "3.11.7"
  }
 },
 "nbformat": 4,
 "nbformat_minor": 5
}
