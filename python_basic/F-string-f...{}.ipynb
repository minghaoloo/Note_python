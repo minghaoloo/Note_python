{
 "cells": [
  {
   "cell_type": "markdown",
   "id": "e2521093-54f1-4aa0-8481-c31aef4ab361",
   "metadata": {},
   "source": [
    "# Metod 1"
   ]
  },
  {
   "cell_type": "code",
   "execution_count": 3,
   "id": "9ac90249-3742-4013-b46a-1690fd5afab6",
   "metadata": {},
   "outputs": [
    {
     "name": "stdout",
     "output_type": "stream",
     "text": [
      "My name is Ming Hao Loo\n"
     ]
    }
   ],
   "source": [
    "first_name = \"Ming Hao\"\n",
    "last_name = 'Loo'\n",
    "\n",
    "sentences = \"My name is {} {}\".format(first_name,last_name)\n",
    "print(sentences)"
   ]
  },
  {
   "cell_type": "markdown",
   "id": "f159787c-6b99-4d01-8fbc-c59f2c546cd5",
   "metadata": {},
   "source": [
    "# Metod 2"
   ]
  },
  {
   "cell_type": "code",
   "execution_count": 4,
   "id": "68559c99-451a-4a4e-bdae-cf263f4d5bd9",
   "metadata": {},
   "outputs": [
    {
     "name": "stdout",
     "output_type": "stream",
     "text": [
      "My name is MING HAO loo\n"
     ]
    }
   ],
   "source": [
    "first_name = \"Ming Hao\"\n",
    "last_name = 'Loo'\n",
    "\n",
    "sentences = f\"My name is {first_name.upper()} {last_name.lower()}\"\n",
    "print(sentences)"
   ]
  },
  {
   "cell_type": "markdown",
   "id": "48c98ae5-63da-466f-8810-a8cd18a5ceb8",
   "metadata": {},
   "source": [
    "# Error Example\n",
    "f'' inside cannot have another ''\n",
    "so to solve it use f\" \""
   ]
  },
  {
   "cell_type": "code",
   "execution_count": null,
   "id": "19ca7ead-ceb2-4fb6-a90d-06a36e0db7c7",
   "metadata": {},
   "outputs": [],
   "source": [
    "# dictionary\n",
    "person = {'name':'Loo Ming Hao', 'age':25}\n",
    "\n",
    "sentences = f'My name is {person['name']} and I am {person['age']} years old'\n",
    "print(sentences)"
   ]
  },
  {
   "cell_type": "markdown",
   "id": "33ddc238-47a1-4ac1-8c88-cf5ad09e6482",
   "metadata": {},
   "source": [
    "**Solved by using f\" \"**"
   ]
  },
  {
   "cell_type": "code",
   "execution_count": 6,
   "id": "84eef078-a315-44a3-ad1e-7fe5696e721b",
   "metadata": {},
   "outputs": [
    {
     "name": "stdout",
     "output_type": "stream",
     "text": [
      "My name is Loo Ming Hao and I am 25 years old\n"
     ]
    }
   ],
   "source": [
    "# dictionary\n",
    "person = {'name':'Loo Ming Hao', 'age':25}\n",
    "\n",
    "sentences = f\"My name is {person['name']} and I am {person['age']} years old\"\n",
    "print(sentences)"
   ]
  },
  {
   "cell_type": "markdown",
   "id": "4a676cb3-635a-4b8d-bbd3-1bb22520f9ec",
   "metadata": {},
   "source": [
    "# Calculation"
   ]
  },
  {
   "cell_type": "code",
   "execution_count": 8,
   "id": "f7212434-28cf-401b-81b8-e5259565e39c",
   "metadata": {},
   "outputs": [
    {
     "name": "stdout",
     "output_type": "stream",
     "text": [
      "4 times 11 is equal to 44\n"
     ]
    }
   ],
   "source": [
    "n = 4 * 11\n",
    "\n",
    "cal = f\"4 times 11 is equal to {n}\"\n",
    "print(cal)"
   ]
  },
  {
   "cell_type": "markdown",
   "id": "74be704a-7746-4a8a-9290-6eab3a7b53cf",
   "metadata": {},
   "source": [
    "# For Loop"
   ]
  },
  {
   "cell_type": "code",
   "execution_count": 12,
   "id": "fcecec49-3ba3-4a7b-91fb-ada08e2f0ddd",
   "metadata": {},
   "outputs": [
    {
     "name": "stdout",
     "output_type": "stream",
     "text": [
      "The value is 1.00\n",
      "The value is 2.00\n",
      "The value is 3.00\n",
      "The value is 4.00\n",
      "The value is 5.00\n",
      "The value is 6.00\n",
      "The value is 7.00\n",
      "The value is 8.00\n",
      "The value is 9.00\n",
      "The value is 10.00\n"
     ]
    }
   ],
   "source": [
    "for n in range(1,11):\n",
    "    # 2f = 2 float value\n",
    "    sentences = f\"The value is {n:.2f}\"\n",
    "    print(sentences)"
   ]
  },
  {
   "cell_type": "code",
   "execution_count": 13,
   "id": "fd809608-6f6b-4e48-91e6-afe8673a9928",
   "metadata": {},
   "outputs": [
    {
     "name": "stdout",
     "output_type": "stream",
     "text": [
      "Pi is equal to 3.1416\n"
     ]
    }
   ],
   "source": [
    "pi = 3.14159265\n",
    "\n",
    "sentences = f\"Pi is equal to {pi:.4f}\"\n",
    "print(sentences)"
   ]
  },
  {
   "cell_type": "markdown",
   "id": "24e47d98-73e0-4cf7-ba9c-c4226d036a41",
   "metadata": {},
   "source": [
    "# Date"
   ]
  },
  {
   "cell_type": "code",
   "execution_count": 14,
   "id": "8e5e3140-2758-45f7-88ea-46bcc58c4c2c",
   "metadata": {},
   "outputs": [
    {
     "name": "stdout",
     "output_type": "stream",
     "text": [
      "My birthday is on 16,Apr,1999\n"
     ]
    }
   ],
   "source": [
    "from datetime import datetime\n",
    "\n",
    "birthday = datetime(1999,4,16)\n",
    "sentences = f\"My birthday is on {birthday:%d,%b,%Y}\"\n",
    "print(sentences)"
   ]
  }
 ],
 "metadata": {
  "kernelspec": {
   "display_name": "Python 3 (ipykernel)",
   "language": "python",
   "name": "python3"
  },
  "language_info": {
   "codemirror_mode": {
    "name": "ipython",
    "version": 3
   },
   "file_extension": ".py",
   "mimetype": "text/x-python",
   "name": "python",
   "nbconvert_exporter": "python",
   "pygments_lexer": "ipython3",
   "version": "3.11.7"
  }
 },
 "nbformat": 4,
 "nbformat_minor": 5
}
